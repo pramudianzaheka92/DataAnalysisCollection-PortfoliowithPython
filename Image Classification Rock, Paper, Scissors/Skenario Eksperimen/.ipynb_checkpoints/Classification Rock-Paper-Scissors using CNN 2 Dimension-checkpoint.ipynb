{
 "cells": [
  {
   "cell_type": "markdown",
   "id": "a9f98738",
   "metadata": {},
   "source": [
    "# Short Introduction with Dataset Rock-Paper-Scissors"
   ]
  },
  {
   "cell_type": "markdown",
   "id": "93e17a87",
   "metadata": {},
   "source": [
    "Dataset yang akan digunakan pada ekskeprimen kali ini adalah dataset gambar yang terdiri dari 3 label: Rock-Paper-Scissors. Ketiga label tersebut juga sangat dikenal sebagai permainan tradisional sederhana yaitu Batu-Gunting-Kertas. Menurut author dataset ini, seluruh data yang ada diambil sebagai bagian dari projek hobi di mana author mengembangkan permainan Batu-Gunting-Kertas menggunakan Computer Vision dan Machine Learning di Raspberry PI.\n",
    "\n",
    "Dataset Rock-Paper-Scissors ini memiliki jumlah total keseluruhan yaitu 2.188 gambar dimana gambar dengan label/kelas Batu memiliki jumlah data sebanyak 726 gambar. Label Kertas memiliki jumlah data sebanyak 712 gambar sedangkan label Gunting memiliki jumlah data sebanyak 750 gambar. Semua gambar dari ketiga label tersebut diambil dengan latar belakang hijau dengan pencahayaan dan white balance yang relatif konsisten.\n",
    "\n",
    "Selain itu, semua gambar dari masing-masing tiga label tersebut adalah gambar RGB atau gambar berwarna dengan format gambar yaitu lebar 300 piksel dan tinggi 200 piksel dalam eksistensi file yaitu .PNG"
   ]
  },
  {
   "cell_type": "markdown",
   "id": "942a87ed",
   "metadata": {},
   "source": [
    "## 1. Import Library and Read Dataset"
   ]
  },
  {
   "cell_type": "code",
   "execution_count": 1,
   "id": "f6de4423",
   "metadata": {},
   "outputs": [],
   "source": [
    "import pandas as pd\n",
    "import matplotlib.pyplot as plt\n",
    "import seaborn as sns\n",
    "import numpy as np\n",
    "import tensorflow as tf\n",
    "from tensorflow import keras\n",
    "from PIL import Image\n",
    "import cv2\n",
    "from glob import *"
   ]
  },
  {
   "cell_type": "code",
   "execution_count": 2,
   "id": "c5111aeb",
   "metadata": {},
   "outputs": [],
   "source": [
    "\"\"\"\n",
    "Memanggil seluruh data gambar dari setiap label gambar masing-masing yaitu label batu yang mewakili gambar batu,\n",
    "label gunting mewakili gambar gunting dan label kertas mewakili gambar kertas\n",
    "\"\"\"\n",
    "rock_label_images = \"../Rock_Paper_Scissors_Dataset/rock\"\n",
    "paper_label_images = \"../Rock_Paper_Scissors_Dataset/paper\"\n",
    "scissors_label_images = \"../Rock_Paper_Scissors_Dataset/scissors\""
   ]
  },
  {
   "cell_type": "markdown",
   "id": "f0679168",
   "metadata": {},
   "source": [
    "Jika pada saat ingin melakukan proses load/upload Dataset eksperimen dilakukan dengan cara \"df = pd.read_csv() atau df = pd.read_excel()\", maka jika Dataset yang digunakan adalah berformat gambar maka cara memproses/membaca Dataset tentu saja berbeda. Pada script diatas dapat diketahui bahwasanya pertama-tama saya melakukan proses definisi variabel terlebih dahulu untuk menyimpan lokasi/path dari masing-masing label dimana masing-masing label tersebut menyimpan seluruh gambar dengan gerakan tangan yang dilakukan (apakah gerakan tangan menunjukkan gambar Batu/Kertas/Gunting).\n",
    "\n",
    "Ketiga label tersebut ditandai dengan nama folder yaitu \"rock\", \"paper\" dan \"scissors\" yang disimpan di dalam folder utama yaitu \"Rock_Paper_Scissors_Dataset\". Lalu arti dari \"../\" adalah karena lokasi dari file Notebook ini berada di dalam folder utama lainnya yang bernama \"Skenario Eksperimen\", maka agar dapat membaca seluruh data gambar berdasarkan labelnya saya harus keluar 1 folder dan masuk ke dalam folder \"Rock_Paper_Scissors_Dataset\"."
   ]
  },
  {
   "cell_type": "code",
   "execution_count": 3,
   "id": "9d8c0b93",
   "metadata": {},
   "outputs": [],
   "source": [
    "\"\"\"\n",
    "Memanggil seluruh data gambar yang lokasinya berada di masing-masing label/kelas gambar\n",
    "yang dimana path/lokasi penyimpanan seluruh data dari masing-masing ketiga label telah disimpan\n",
    "di dalam variabel yaitu \"rock_label_images\", \"paper_label_images\" dan \"scissors_label_images\" menggunakan module Glob\n",
    "\"\"\"\n",
    "# Data-data gerakan tangan yang menunjukkan gambar/foto Batu\n",
    "rock_image_data = glob(rock_label_images + \"/*.png\")\n",
    "\n",
    "# Data-data gerakan tangan manusia yang menunjukkan gambar/foto Kertas\n",
    "paper_image_data = glob(paper_label_images + \"/*.png\")\n",
    "\n",
    "# Data-data gerakan tangan manusia yang menunjukkan gambar/foto Gunting\n",
    "scissors_image_data = glob(scissors_label_images + \"/*.png\")"
   ]
  },
  {
   "cell_type": "markdown",
   "id": "0218f0e8",
   "metadata": {},
   "source": [
    "Module Glob pada kasus Image Processing menggunakan Python kali ini bertujuan untuk mengambil/membaca/memuat banyak data gambar sekaligus berdasarkan lokasi file dari data gambar tersebut disimpan. Karena pada kasus sebelumnya saya telah mendefinisikan lokasi dari masing-masing file data gambar dari ketiga label, maka saya hanya tinggal memanggil ketiga variabel yang menyimpan lokasi file dari setiap masing-masing label yaitu \"rock_label_images\", \"paper_label_images\" dan \"scissors_label_images\". Ketiga variabel tersebut di-input di dalam module glob yang kemudian dikombinasikan dengan simbol \"/*\"\n",
    "\n",
    "Simbol \"/*\" berfungsi untuk mencocokan segala jenis eksistensi file yang ada di dalam sub-folder tersebut untuk dipanggil ke dalam code. Sebagai contoh jika kita ingin hanya memanggil file dengan eksistensi .txt maka bisa gunakan script \"/*.txt\". Maka secara otomatis file yang akan terbaca hanyalah file yang memiliki eksistensi/format file sebagai .txt saja sedangkan jika terdapat format file lainnya seperti .docx tidak terbaca karena tidak termasuk ke dalam format .txt. Selain itu, jika ingin memanggil file yang hanya bereksistensi .jpg saja (karena pada eksperimen kali ini menggunakan data images) maka kita bisa menggunakan script \"/*.jpg\".\n",
    "\n",
    "Lalu bagaimana jika kita ingin memanggil/membaca seluruh file data gambar tanpa memperdulikan format file? Maka kita dapat menggunakan \"/*\" yang itu berarti kita akan memuat/memanggil seluruh file yang dimiliki oleh sub-folder di dalamnya tanpa memperdulikan format dari suatu file."
   ]
  },
  {
   "cell_type": "code",
   "execution_count": 4,
   "id": "db087a53",
   "metadata": {},
   "outputs": [
    {
     "name": "stdout",
     "output_type": "stream",
     "text": [
      "Lima Nama File Paling Awal dari Label Gambar Gerakan Tangan Rock:  ['../Rock_Paper_Scissors_Dataset/rock\\\\00nKV8oHuTGi20gq.png', '../Rock_Paper_Scissors_Dataset/rock\\\\01dM3ewPIsnBICu1.png', '../Rock_Paper_Scissors_Dataset/rock\\\\02vG75hQW9Vp4oTl.png', '../Rock_Paper_Scissors_Dataset/rock\\\\0bioBZYFCXqJIulm.png', '../Rock_Paper_Scissors_Dataset/rock\\\\0NDYNEoDui7o64gU.png'] \n",
      "\n",
      "Jumlah Total Data pada Label Gambar Gerakan Tangan Rock:  726 \n",
      "\n",
      "Lima Nama File Paling Awal dari Label Gambar Gerakan Tangan Paper:  ['../Rock_Paper_Scissors_Dataset/paper\\\\04l5I8TqdzF9WDMJ.png', '../Rock_Paper_Scissors_Dataset/paper\\\\0a3UtNzl5Ll3sq8K.png', '../Rock_Paper_Scissors_Dataset/paper\\\\0cb6cVL8pkfi4wF6.png', '../Rock_Paper_Scissors_Dataset/paper\\\\0eqArS2GgsBeqgSn.png', '../Rock_Paper_Scissors_Dataset/paper\\\\0Og76sl5CJhbxWWx.png'] \n",
      "\n",
      "Jumlah Total Data pada Label Gambar Gerakan Tangan Paper:  712 \n",
      "\n",
      "Lima Nama File Paling Awal dari Label Gambar Gerakan Tangan Scissors:  ['../Rock_Paper_Scissors_Dataset/scissors\\\\0657zSfiTYzP2jrl.png', '../Rock_Paper_Scissors_Dataset/scissors\\\\0CSaM2vL2cWX6Cay.png', '../Rock_Paper_Scissors_Dataset/scissors\\\\0ePX1wuCc3et7leL.png', '../Rock_Paper_Scissors_Dataset/scissors\\\\0Flw60Z2MAWWKn6S.png', '../Rock_Paper_Scissors_Dataset/scissors\\\\0Ug54ifXRqqlZS2Z.png'] \n",
      "\n",
      "Jumlah Total Data pada Label Gambar Gerakan Tangan Scissors:  750 \n",
      "\n"
     ]
    }
   ],
   "source": [
    "\"\"\"\n",
    "Menampilkan kelima nama file paling awal dari ketiga label (Rock, Paper, Scissors)\n",
    "serta menampilkan jumlah total keseluruhan data terhadap masing-masing label/kelas gambar yaitu Rock, Paper dan Scissors\n",
    "\"\"\"\n",
    "print(\"Lima Nama File Paling Awal dari Label Gambar Gerakan Tangan Rock: \", rock_image_data[0:5], \"\\n\")\n",
    "print(\"Jumlah Total Data pada Label Gambar Gerakan Tangan Rock: \", len(rock_image_data), \"\\n\")\n",
    "\n",
    "print(\"Lima Nama File Paling Awal dari Label Gambar Gerakan Tangan Paper: \", paper_image_data[0:5], \"\\n\")\n",
    "print(\"Jumlah Total Data pada Label Gambar Gerakan Tangan Paper: \", len(paper_image_data), \"\\n\")\n",
    "\n",
    "print(\"Lima Nama File Paling Awal dari Label Gambar Gerakan Tangan Scissors: \", scissors_image_data[0:5], \"\\n\")\n",
    "print(\"Jumlah Total Data pada Label Gambar Gerakan Tangan Scissors: \", len(scissors_image_data), \"\\n\")"
   ]
  },
  {
   "cell_type": "code",
   "execution_count": null,
   "id": "e32b4d94",
   "metadata": {},
   "outputs": [],
   "source": []
  }
 ],
 "metadata": {
  "kernelspec": {
   "display_name": "Python 3 (ipykernel)",
   "language": "python",
   "name": "python3"
  },
  "language_info": {
   "codemirror_mode": {
    "name": "ipython",
    "version": 3
   },
   "file_extension": ".py",
   "mimetype": "text/x-python",
   "name": "python",
   "nbconvert_exporter": "python",
   "pygments_lexer": "ipython3",
   "version": "3.9.12"
  }
 },
 "nbformat": 4,
 "nbformat_minor": 5
}
