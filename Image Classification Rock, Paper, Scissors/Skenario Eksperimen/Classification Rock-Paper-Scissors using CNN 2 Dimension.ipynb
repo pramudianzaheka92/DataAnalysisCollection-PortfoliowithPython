{
 "cells": [
  {
   "cell_type": "markdown",
   "id": "a9f98738",
   "metadata": {},
   "source": [
    "# Short Introduction with Dataset Rock-Paper-Scissors"
   ]
  },
  {
   "cell_type": "markdown",
   "id": "93e17a87",
   "metadata": {},
   "source": [
    "Dataset yang akan digunakan pada ekskeprimen kali ini adalah dataset gambar yang terdiri dari 3 label: Rock-Paper-Scissors. Ketiga label tersebut juga sangat dikenal sebagai permainan tradisional sederhana yaitu Batu-Gunting-Kertas. Menurut author dataset ini, seluruh data yang ada diambil sebagai bagian dari projek hobi di mana author mengembangkan permainan Batu-Gunting-Kertas menggunakan Computer Vision dan Machine Learning di Raspberry PI.\n",
    "\n",
    "Dataset Rock-Paper-Scissors ini memiliki jumlah total keseluruhan yaitu 2.188 gambar dimana gambar dengan label/kelas Batu memiliki jumlah data sebanyak 726 gambar. Label Kertas memiliki jumlah data sebanyak 712 gambar sedangkan label Gunting memiliki jumlah data sebanyak 750 gambar. Semua gambar dari ketiga label tersebut diambil dengan latar belakang hijau dengan pencahayaan dan white balance yang relatif konsisten.\n",
    "\n",
    "Selain itu, semua gambar dari masing-masing tiga label tersebut adalah gambar RGB atau gambar berwarna dengan format gambar yaitu lebar 300 piksel dan tinggi 200 piksel dalam eksistensi file yaitu .PNG"
   ]
  },
  {
   "cell_type": "markdown",
   "id": "942a87ed",
   "metadata": {},
   "source": [
    "## 1. Import Library and Read Dataset"
   ]
  },
  {
   "cell_type": "code",
   "execution_count": 35,
   "id": "f6de4423",
   "metadata": {},
   "outputs": [],
   "source": [
    "import pandas as pd\n",
    "import matplotlib.pyplot as plt\n",
    "import seaborn as sns\n",
    "import numpy as np\n",
    "import tensorflow as tf\n",
    "from tensorflow import keras\n",
    "from PIL import Image\n",
    "import cv2\n",
    "from glob import *"
   ]
  },
  {
   "cell_type": "code",
   "execution_count": 36,
   "id": "c5111aeb",
   "metadata": {},
   "outputs": [],
   "source": [
    "\"\"\"\n",
    "Memanggil seluruh data gambar dari setiap label gambar masing-masing yaitu label batu yang mewakili gambar batu,\n",
    "label gunting mewakili gambar gunting dan label kertas mewakili gambar kertas\n",
    "\"\"\"\n",
    "rock_label_images = \"../Rock_Paper_Scissors_Dataset/rock\"\n",
    "paper_label_images = \"../Rock_Paper_Scissors_Dataset/paper\"\n",
    "scissors_label_images = \"../Rock_Paper_Scissors_Dataset/scissors\""
   ]
  },
  {
   "cell_type": "markdown",
   "id": "f0679168",
   "metadata": {},
   "source": [
    "Jika pada saat ingin melakukan proses load/upload Dataset eksperimen dilakukan dengan cara \"df = pd.read_csv() atau df = pd.read_excel()\", maka jika Dataset yang digunakan adalah berformat gambar maka cara memproses/membaca Dataset tentu saja berbeda. Pada script diatas dapat diketahui bahwasanya pertama-tama saya melakukan proses definisi variabel terlebih dahulu untuk menyimpan lokasi/path dari masing-masing label dimana masing-masing label tersebut menyimpan seluruh gambar dengan gerakan tangan yang dilakukan (apakah gerakan tangan menunjukkan gambar Batu/Kertas/Gunting).\n",
    "\n",
    "Ketiga label tersebut ditandai dengan nama folder yaitu \"rock\", \"paper\" dan \"scissors\" yang disimpan di dalam folder utama yaitu \"Rock_Paper_Scissors_Dataset\". Lalu arti dari \"../\" adalah karena lokasi dari file Notebook ini berada di dalam folder utama lainnya yang bernama \"Skenario Eksperimen\", maka agar dapat membaca seluruh data gambar berdasarkan labelnya saya harus keluar 1 folder dan masuk ke dalam folder \"Rock_Paper_Scissors_Dataset\"."
   ]
  },
  {
   "cell_type": "code",
   "execution_count": 37,
   "id": "9d8c0b93",
   "metadata": {},
   "outputs": [],
   "source": [
    "\"\"\"\n",
    "Memanggil seluruh data gambar berformat PNG yang lokasinya berada di masing-masing label/kelas gambar\n",
    "yang dimana path/lokasi penyimpanan seluruh data dari masing-masing ketiga label telah disimpan\n",
    "di dalam variabel yaitu \"rock_label_images\", \"paper_label_images\" dan \"scissors_label_images\" menggunakan module Glob\n",
    "\"\"\"\n",
    "# Data-data gerakan tangan yang menunjukkan gambar/foto Batu\n",
    "rock_images_dataset = glob(rock_label_images + \"/*.png\")\n",
    "\n",
    "# Data-data gerakan tangan manusia yang menunjukkan gambar/foto Kertas\n",
    "paper_images_dataset = glob(paper_label_images + \"/*.png\")\n",
    "\n",
    "# Data-data gerakan tangan manusia yang menunjukkan gambar/foto Gunting\n",
    "scissors_images_dataset = glob(scissors_label_images + \"/*.png\")"
   ]
  },
  {
   "cell_type": "markdown",
   "id": "0218f0e8",
   "metadata": {},
   "source": [
    "Module Glob pada kasus Image Processing menggunakan Python kali ini bertujuan untuk mengambil/membaca/memuat banyak data gambar sekaligus berdasarkan lokasi file dari data gambar tersebut disimpan. Karena pada kasus sebelumnya saya telah mendefinisikan lokasi dari masing-masing file data gambar dari ketiga label, maka saya hanya tinggal memanggil ketiga variabel yang menyimpan lokasi file dari setiap masing-masing label yaitu \"rock_label_images\", \"paper_label_images\" dan \"scissors_label_images\". Ketiga variabel tersebut di-input di dalam module glob yang kemudian dikombinasikan dengan simbol \"/*\".\n",
    "\n",
    "Simbol tersebut berfungsi untuk mencocokkan segala jenis eksistensi file yang ada di dalam sub-folder tersebut untuk dipanggil ke dalam code. Sebagai contoh jika kita ingin hanya memanggil file dengan eksistensi .txt maka bisa gunakan script \"/*.txt\". Maka secara otomatis file yang akan terbaca hanyalah file yang memiliki eksistensi/format file sebagai .txt saja sedangkan jika terdapat format file lainnya seperti .docx tidak terbaca karena tidak termasuk ke dalam format .txt.\n",
    "\n",
    "Selain itu, jika ingin memanggil file yang hanya bereksistensi .jpg saja (karena pada eksperimen kali ini menggunakan data images) maka kita bisa menggunakan script \"/*.jpg\".\n",
    "\n",
    "Lalu bagaimana jika kita ingin memanggil/membaca seluruh file data gambar tanpa memperdulikan format file? Maka kita dapat menggunakan \"/*\" yang itu berarti kita akan memuat/memanggil seluruh file yang dimiliki oleh sub-folder di dalamnya tanpa memperdulikan format dari suatu file."
   ]
  },
  {
   "cell_type": "code",
   "execution_count": 38,
   "id": "db087a53",
   "metadata": {},
   "outputs": [
    {
     "name": "stdout",
     "output_type": "stream",
     "text": [
      "Lima Nama File Paling Awal dari Label Gambar Gerakan Tangan Rock:  ['../Rock_Paper_Scissors_Dataset/rock\\\\00nKV8oHuTGi20gq.png', '../Rock_Paper_Scissors_Dataset/rock\\\\01dM3ewPIsnBICu1.png', '../Rock_Paper_Scissors_Dataset/rock\\\\02vG75hQW9Vp4oTl.png', '../Rock_Paper_Scissors_Dataset/rock\\\\0bioBZYFCXqJIulm.png', '../Rock_Paper_Scissors_Dataset/rock\\\\0NDYNEoDui7o64gU.png'] \n",
      "\n",
      "Jumlah Total Data pada Label Gambar Gerakan Tangan Rock:  726 \n",
      "\n",
      "Lima Nama File Paling Awal dari Label Gambar Gerakan Tangan Paper:  ['../Rock_Paper_Scissors_Dataset/paper\\\\04l5I8TqdzF9WDMJ.png', '../Rock_Paper_Scissors_Dataset/paper\\\\0a3UtNzl5Ll3sq8K.png', '../Rock_Paper_Scissors_Dataset/paper\\\\0cb6cVL8pkfi4wF6.png', '../Rock_Paper_Scissors_Dataset/paper\\\\0eqArS2GgsBeqgSn.png', '../Rock_Paper_Scissors_Dataset/paper\\\\0Og76sl5CJhbxWWx.png'] \n",
      "\n",
      "Jumlah Total Data pada Label Gambar Gerakan Tangan Paper:  712 \n",
      "\n",
      "Lima Nama File Paling Awal dari Label Gambar Gerakan Tangan Scissors:  ['../Rock_Paper_Scissors_Dataset/scissors\\\\0657zSfiTYzP2jrl.png', '../Rock_Paper_Scissors_Dataset/scissors\\\\0CSaM2vL2cWX6Cay.png', '../Rock_Paper_Scissors_Dataset/scissors\\\\0ePX1wuCc3et7leL.png', '../Rock_Paper_Scissors_Dataset/scissors\\\\0Flw60Z2MAWWKn6S.png', '../Rock_Paper_Scissors_Dataset/scissors\\\\0Ug54ifXRqqlZS2Z.png'] \n",
      "\n",
      "Jumlah Total Data pada Label Gambar Gerakan Tangan Scissors:  750 \n",
      "\n"
     ]
    }
   ],
   "source": [
    "\"\"\"\n",
    "Menampilkan kelima nama file paling awal dari ketiga label (Rock, Paper, Scissors)\n",
    "serta menampilkan jumlah total keseluruhan data terhadap masing-masing label/kelas gambar yaitu Rock, Paper dan Scissors\n",
    "\"\"\"\n",
    "print(\"Lima Nama File Paling Awal dari Label Gambar Gerakan Tangan Rock: \", rock_images_dataset[0:5], \"\\n\")\n",
    "print(\"Jumlah Total Data pada Label Gambar Gerakan Tangan Rock: \", len(rock_images_dataset), \"\\n\")\n",
    "\n",
    "print(\"Lima Nama File Paling Awal dari Label Gambar Gerakan Tangan Paper: \", paper_images_dataset[0:5], \"\\n\")\n",
    "print(\"Jumlah Total Data pada Label Gambar Gerakan Tangan Paper: \", len(paper_images_dataset), \"\\n\")\n",
    "\n",
    "print(\"Lima Nama File Paling Awal dari Label Gambar Gerakan Tangan Scissors: \", scissors_images_dataset[0:5], \"\\n\")\n",
    "print(\"Jumlah Total Data pada Label Gambar Gerakan Tangan Scissors: \", len(scissors_images_dataset), \"\\n\")"
   ]
  },
  {
   "cell_type": "markdown",
   "id": "0a9976a0",
   "metadata": {},
   "source": [
    "## 2. Image Data Exploration from Each Labels"
   ]
  },
  {
   "cell_type": "markdown",
   "id": "a57b5f54",
   "metadata": {},
   "source": [
    "### 2.1. Displaying Resolution Dimensions of Multiple Images"
   ]
  },
  {
   "cell_type": "markdown",
   "id": "226985da",
   "metadata": {},
   "source": [
    "#### 2.1.1. Dimension Resolution 10 Data Images from Paper Label"
   ]
  },
  {
   "cell_type": "code",
   "execution_count": 39,
   "id": "b449badf",
   "metadata": {},
   "outputs": [
    {
     "name": "stdout",
     "output_type": "stream",
     "text": [
      "--------------------Dimensi Resolusi dari Gambar Gerakan Tangan Kertas--------------------\n",
      "1. Dimensi Ukuran Gambar Gerakan Tangan Kertas dengan Urutan File ke-1 adalah: 300x200\n",
      "2. Dimensi Ukuran Gambar Gerakan Tangan Kertas dengan Urutan File ke-18 adalah: 300x200\n",
      "3. Dimensi Ukuran Gambar Gerakan Tangan Kertas dengan Urutan File ke-7 adalah: 300x200\n",
      "4. Dimensi Ukuran Gambar Gerakan Tangan Kertas dengan Urutan File ke-88 adalah: 300x200\n",
      "5. Dimensi Ukuran Gambar Gerakan Tangan Kertas dengan Urutan File ke-43 adalah: 300x200\n",
      "6. Dimensi Ukuran Gambar Gerakan Tangan Kertas dengan Urutan File ke-243 adalah: 300x200\n",
      "7. Dimensi Ukuran Gambar Gerakan Tangan Kertas dengan Urutan File ke-712 adalah: 300x200\n",
      "8. Dimensi Ukuran Gambar Gerakan Tangan Kertas dengan Urutan File ke-486 adalah: 300x200\n",
      "9. Dimensi Ukuran Gambar Gerakan Tangan Kertas dengan Urutan File ke-611 adalah: 300x200\n",
      "10. Dimensi Ukuran Gambar Gerakan Tangan Kertas dengan Urutan File ke-593 adalah: 300x200\n"
     ]
    }
   ],
   "source": [
    "\"\"\"\n",
    "Menampilkan sekaligus mengecek dimensi resolusi dari sepuluh data gambar gerakan\n",
    "tangan Kertas (Paper Label) secara acak yang tersimpan di dalam sub-folder \"paper\", apakah sepuluh gambar\n",
    "gerakan tangan kertas resolusi gambarnya sudah sesuai dengan deskripsi perkenalan singkat yaitu 300x200 piksel\n",
    "dimana lebar gambar 300 piksel dan tinggi gambar adalah 200 piksel\n",
    "\"\"\"\n",
    "\n",
    "print(\"--------------------Dimensi Resolusi dari Gambar Gerakan Tangan Kertas--------------------\")\n",
    "\n",
    "# Gambar gerakan tangan Kertas dengan urutan file pertama\n",
    "paper_image_1_resolution = Image.open(str(paper_images_dataset[0]))\n",
    "width, height = paper_image_1_resolution.size # .size merupakan sebuah function untuk memanggil ukuran/dimensi pada suatu gambar\n",
    "\n",
    "print(\"1. Dimensi Ukuran Gambar Gerakan Tangan Kertas dengan Urutan File ke-1 adalah:\", str(width) + \"x\" + str(height))\n",
    "\n",
    "# Gambar gerakan tangan Kertas dengan urutan file yaitu delapan belas\n",
    "paper_image_18_resolution = Image.open(str(paper_images_dataset[17]))\n",
    "width, height = paper_image_18_resolution.size\n",
    "\n",
    "print(\"2. Dimensi Ukuran Gambar Gerakan Tangan Kertas dengan Urutan File ke-18 adalah:\", str(width) + \"x\" + str(height))\n",
    "\n",
    "# Gambar gerakan tangan Kertas dengan urutan file ketujuh\n",
    "paper_image_7_resolution = Image.open(str(paper_images_dataset[6]))\n",
    "width, height = paper_image_7_resolution.size\n",
    "\n",
    "print(\"3. Dimensi Ukuran Gambar Gerakan Tangan Kertas dengan Urutan File ke-7 adalah:\", str(width) + \"x\" + str(height))\n",
    "\n",
    "# Gambar gerakan tangan Kertas dengan urutan file ke-88\n",
    "paper_image_88_resolution = Image.open(str(paper_images_dataset[87]))\n",
    "width, height = paper_image_88_resolution.size\n",
    "\n",
    "print(\"4. Dimensi Ukuran Gambar Gerakan Tangan Kertas dengan Urutan File ke-88 adalah:\", str(width) + \"x\" + str(height))\n",
    "\n",
    "# Gambar gerakan tangan Kertas dengan urutan file ke-43\n",
    "paper_image_43_resolution = Image.open(str(paper_images_dataset[42]))\n",
    "width, height = paper_image_43_resolution.size\n",
    "\n",
    "print(\"5. Dimensi Ukuran Gambar Gerakan Tangan Kertas dengan Urutan File ke-43 adalah:\", str(width) + \"x\" + str(height))\n",
    "\n",
    "# Gambar gerakan tangan Kertas dengan urutan file ke-243\n",
    "paper_image_243_resolution = Image.open(str(paper_images_dataset[242]))\n",
    "width, height = paper_image_243_resolution.size\n",
    "\n",
    "print(\"6. Dimensi Ukuran Gambar Gerakan Tangan Kertas dengan Urutan File ke-243 adalah:\", str(width) + \"x\" + str(height))\n",
    "\n",
    "# Gambar gerakan tangan Kertas dengan urutan file terakhir yaitu ke-712\n",
    "paper_image_712_resolution = Image.open(str(paper_images_dataset[711]))\n",
    "width, height = paper_image_712_resolution.size\n",
    "\n",
    "print(\"7. Dimensi Ukuran Gambar Gerakan Tangan Kertas dengan Urutan File ke-712 adalah:\", str(width) + \"x\" + str(height))\n",
    "\n",
    "# Gambar gerakan tangan Kertas dengan urutan file ke-486\n",
    "paper_image_486_resolution = Image.open(str(paper_images_dataset[485]))\n",
    "width, height = paper_image_486_resolution.size\n",
    "\n",
    "print(\"8. Dimensi Ukuran Gambar Gerakan Tangan Kertas dengan Urutan File ke-486 adalah:\", str(width) + \"x\" + str(height))\n",
    "\n",
    "# Gambar gerakan tangan Kertas dengan urutan file ke-611\n",
    "paper_image_611_resolution = Image.open(str(paper_images_dataset[610]))\n",
    "width, height = paper_image_611_resolution.size\n",
    "\n",
    "print(\"9. Dimensi Ukuran Gambar Gerakan Tangan Kertas dengan Urutan File ke-611 adalah:\", str(width) + \"x\" + str(height))\n",
    "\n",
    "# Gambar gerakan tangan Kertas dengan urutan file ke-593\n",
    "paper_image_593_resolution = Image.open(str(paper_images_dataset[592]))\n",
    "width, height = paper_image_593_resolution.size\n",
    "\n",
    "print(\"10. Dimensi Ukuran Gambar Gerakan Tangan Kertas dengan Urutan File ke-593 adalah:\", str(width) + \"x\" + str(height))"
   ]
  },
  {
   "cell_type": "markdown",
   "id": "050085ba",
   "metadata": {},
   "source": [
    "#### 2.1.2. Dimension Resolution 10 Data Images from Scissors Label"
   ]
  },
  {
   "cell_type": "code",
   "execution_count": 40,
   "id": "32b0a439",
   "metadata": {},
   "outputs": [
    {
     "name": "stdout",
     "output_type": "stream",
     "text": [
      "--------------------Dimensi Resolusi dari Gambar Gerakan Tangan Gunting--------------------\n",
      "1. Dimensi Ukuran Gambar Gerakan Tangan Gunting dengan Urutan File ke-438 adalah: 300x200\n",
      "2. Dimensi Ukuran Gambar Gerakan Tangan Gunting dengan Urutan File ke-474 adalah: 300x200\n",
      "3. Dimensi Ukuran Gambar Gerakan Tangan Gunting dengan Urutan File ke-1 adalah: 300x200\n",
      "4. Dimensi Ukuran Gambar Gerakan Tangan Gunting dengan Urutan File ke-108 adalah: 300x200\n",
      "5. Dimensi Ukuran Gambar Gerakan Tangan Gunting dengan Urutan File ke-645 adalah: 300x200\n",
      "6. Dimensi Ukuran Gambar Gerakan Tangan Gunting dengan Urutan File ke-750 adalah: 300x200\n",
      "7. Dimensi Ukuran Gambar Gerakan Tangan Gunting dengan Urutan File ke-738 adalah: 300x200\n",
      "8. Dimensi Ukuran Gambar Gerakan Tangan Gunting dengan Urutan File ke-561 adalah: 300x200\n",
      "9. Dimensi Ukuran Gambar Gerakan Tangan Gunting dengan Urutan File ke-506 adalah: 300x200\n",
      "10. Dimensi Ukuran Gambar Gerakan Tangan Gunting dengan Urutan File ke-327 adalah: 300x200\n"
     ]
    }
   ],
   "source": [
    "\"\"\"\n",
    "Menampilkan sekaligus mengecek dimensi resolusi dari sepuluh data gambar gerakan\n",
    "tangan Gunting (Scissors Label) secara acak yang tersimpan di dalam sub-folder \"scissors\", apakah sepuluh gambar\n",
    "gerakan tangan gunting resolusi gambarnya sudah sesuai dengan deskripsi perkenalan singkat yaitu 300x200 piksel\n",
    "dimana lebar gambar 300 piksel dan tinggi gambar adalah 200 piksel\n",
    "\"\"\"\n",
    "\n",
    "print(\"--------------------Dimensi Resolusi dari Gambar Gerakan Tangan Gunting--------------------\")\n",
    "\n",
    "# Gambar gerakan tangan Gunting dengan urutan file ke-438\n",
    "scissors_image_438_resolution = Image.open(str(scissors_images_dataset[437]))\n",
    "width, height = scissors_image_438_resolution.size # .size merupakan sebuah function untuk memanggil ukuran/dimensi pada suatu gambar\n",
    "\n",
    "print(\"1. Dimensi Ukuran Gambar Gerakan Tangan Gunting dengan Urutan File ke-438 adalah:\", str(width) + \"x\" + str(height))\n",
    "\n",
    "# Gambar gerakan tangan Gunting dengan urutan file ke-474\n",
    "scissors_image_474_resolution = Image.open(str(scissors_images_dataset[473]))\n",
    "width, height = scissors_image_474_resolution.size\n",
    "\n",
    "print(\"2. Dimensi Ukuran Gambar Gerakan Tangan Gunting dengan Urutan File ke-474 adalah:\", str(width) + \"x\" + str(height))\n",
    "\n",
    "# Gambar gerakan tangan Gunting dengan urutan file pertama\n",
    "scissors_image_1_resolution = Image.open(str(scissors_images_dataset[0]))\n",
    "width, height = scissors_image_1_resolution.size\n",
    "\n",
    "print(\"3. Dimensi Ukuran Gambar Gerakan Tangan Gunting dengan Urutan File ke-1 adalah:\", str(width) + \"x\" + str(height))\n",
    "\n",
    "# Gambar gerakan tangan Gunting dengan urutan file ke-108\n",
    "scissors_image_108_resolution = Image.open(str(scissors_images_dataset[107]))\n",
    "width, height = scissors_image_108_resolution.size\n",
    "\n",
    "print(\"4. Dimensi Ukuran Gambar Gerakan Tangan Gunting dengan Urutan File ke-108 adalah:\", str(width) + \"x\" + str(height))\n",
    "\n",
    "# Gambar gerakan tangan Gunting dengan urutan file ke-645\n",
    "scissors_image_645_resolution = Image.open(str(scissors_images_dataset[644]))\n",
    "width, height = scissors_image_645_resolution.size\n",
    "\n",
    "print(\"5. Dimensi Ukuran Gambar Gerakan Tangan Gunting dengan Urutan File ke-645 adalah:\", str(width) + \"x\" + str(height))\n",
    "\n",
    "# Gambar gerakan tangan Gunting dengan urutan file terakhir dari label Gunting yaitu ke-750\n",
    "scissors_image_750_resolution = Image.open(str(scissors_images_dataset[749]))\n",
    "width, height = scissors_image_750_resolution.size\n",
    "\n",
    "print(\"6. Dimensi Ukuran Gambar Gerakan Tangan Gunting dengan Urutan File ke-750 adalah:\", str(width) + \"x\" + str(height))\n",
    "\n",
    "# Gambar gerakan tangan Gunting dengan urutan file ke-738\n",
    "scissors_image_738_resolution = Image.open(str(scissors_images_dataset[737]))\n",
    "width, height = scissors_image_738_resolution.size\n",
    "\n",
    "print(\"7. Dimensi Ukuran Gambar Gerakan Tangan Gunting dengan Urutan File ke-738 adalah:\", str(width) + \"x\" + str(height))\n",
    "\n",
    "# Gambar gerakan tangan Gunting dengan urutan file ke-561\n",
    "scissors_image_561_resolution = Image.open(str(scissors_images_dataset[560]))\n",
    "width, height = scissors_image_561_resolution.size\n",
    "\n",
    "print(\"8. Dimensi Ukuran Gambar Gerakan Tangan Gunting dengan Urutan File ke-561 adalah:\", str(width) + \"x\" + str(height))\n",
    "\n",
    "# Gambar gerakan tangan Gunting dengan urutan file ke-506\n",
    "scissors_image_506_resolution = Image.open(str(scissors_images_dataset[505]))\n",
    "width, height = scissors_image_506_resolution.size\n",
    "\n",
    "print(\"9. Dimensi Ukuran Gambar Gerakan Tangan Gunting dengan Urutan File ke-506 adalah:\", str(width) + \"x\" + str(height))\n",
    "\n",
    "# Gambar gerakan tangan Gunting dengan urutan file ke-327\n",
    "scissors_image_327_resolution = Image.open(str(scissors_images_dataset[326]))\n",
    "width, height = scissors_image_327_resolution.size\n",
    "\n",
    "print(\"10. Dimensi Ukuran Gambar Gerakan Tangan Gunting dengan Urutan File ke-327 adalah:\", str(width) + \"x\" + str(height))"
   ]
  },
  {
   "cell_type": "markdown",
   "id": "e1b5d4c8",
   "metadata": {},
   "source": [
    "#### 2.1.3. Dimension Resolution 10 Data Images from Rock Label"
   ]
  },
  {
   "cell_type": "code",
   "execution_count": 41,
   "id": "5b955bf0",
   "metadata": {},
   "outputs": [
    {
     "name": "stdout",
     "output_type": "stream",
     "text": [
      "--------------------Dimensi Resolusi dari Gambar Gerakan Tangan Batu--------------------\n",
      "1. Dimensi Ukuran Gambar Gerakan Tangan Batu dengan Urutan File ke-41 adalah: 300x200\n",
      "2. Dimensi Ukuran Gambar Gerakan Tangan Batu dengan Urutan File ke-117 adalah: 300x200\n",
      "3. Dimensi Ukuran Gambar Gerakan Tangan Batu dengan Urutan File ke-285 adalah: 300x200\n",
      "4. Dimensi Ukuran Gambar Gerakan Tangan Batu dengan Urutan File ke-341 adalah: 300x200\n",
      "5. Dimensi Ukuran Gambar Gerakan Tangan Batu dengan Urutan File ke-512 adalah: 300x200\n",
      "6. Dimensi Ukuran Gambar Gerakan Tangan Batu dengan Urutan File ke-726 adalah: 300x200\n",
      "7. Dimensi Ukuran Gambar Gerakan Tangan Batu dengan Urutan File ke-700 adalah: 300x200\n",
      "8. Dimensi Ukuran Gambar Gerakan Tangan Batu dengan Urutan File ke-622 adalah: 300x200\n",
      "9. Dimensi Ukuran Gambar Gerakan Tangan Batu dengan Urutan File ke-419 adalah: 300x200\n",
      "10. Dimensi Ukuran Gambar Gerakan Tangan Batu dengan Urutan File ke-453 adalah: 300x200\n"
     ]
    }
   ],
   "source": [
    "\"\"\"\n",
    "Menampilkan sekaligus mengecek dimensi resolusi dari sepuluh data gambar gerakan\n",
    "tangan Batu (Rock Label) secara acak yang tersimpan di dalam sub-folder \"rock\", apakah sepuluh gambar\n",
    "gerakan tangan batu resolusi gambarnya sudah sesuai dengan deskripsi perkenalan singkat yaitu 300x200 piksel\n",
    "dimana lebar gambar 300 piksel dan tinggi gambar adalah 200 piksel\n",
    "\"\"\"\n",
    "\n",
    "print(\"--------------------Dimensi Resolusi dari Gambar Gerakan Tangan Batu--------------------\")\n",
    "\n",
    "# Gambar gerakan tangan Batu dengan urutan file ke-41\n",
    "rock_image_41_resolution = Image.open(str(rock_images_dataset[40]))\n",
    "width, height = rock_image_41_resolution.size # .size merupakan sebuah function untuk memanggil ukuran/dimensi pada suatu gambar\n",
    "\n",
    "print(\"1. Dimensi Ukuran Gambar Gerakan Tangan Batu dengan Urutan File ke-41 adalah:\", str(width) + \"x\" + str(height))\n",
    "\n",
    "# Gambar gerakan tangan Batu dengan urutan file ke-117\n",
    "rock_image_117_resolution = Image.open(str(rock_images_dataset[116]))\n",
    "width, height = rock_image_117_resolution.size\n",
    "\n",
    "print(\"2. Dimensi Ukuran Gambar Gerakan Tangan Batu dengan Urutan File ke-117 adalah:\", str(width) + \"x\" + str(height))\n",
    "\n",
    "# Gambar gerakan tangan Batu dengan urutan file ke-285\n",
    "rock_image_285_resolution = Image.open(str(rock_images_dataset[284]))\n",
    "width, height = rock_image_285_resolution.size\n",
    "\n",
    "print(\"3. Dimensi Ukuran Gambar Gerakan Tangan Batu dengan Urutan File ke-285 adalah:\", str(width) + \"x\" + str(height))\n",
    "\n",
    "# Gambar gerakan tangan Batu dengan urutan file ke-341\n",
    "rock_image_341_resolution = Image.open(str(rock_images_dataset[340]))\n",
    "width, height = rock_image_341_resolution.size\n",
    "\n",
    "print(\"4. Dimensi Ukuran Gambar Gerakan Tangan Batu dengan Urutan File ke-341 adalah:\", str(width) + \"x\" + str(height))\n",
    "\n",
    "# Gambar gerakan tangan Batu dengan urutan file ke-512\n",
    "rock_image_512_resolution = Image.open(str(rock_images_dataset[511]))\n",
    "width, height = rock_image_512_resolution.size\n",
    "\n",
    "print(\"5. Dimensi Ukuran Gambar Gerakan Tangan Batu dengan Urutan File ke-512 adalah:\", str(width) + \"x\" + str(height))\n",
    "\n",
    "# Gambar gerakan tangan Batu dengan urutan file terakhir dari label Batu yaitu ke-726\n",
    "rock_image_726_resolution = Image.open(str(rock_images_dataset[725]))\n",
    "width, height = rock_image_726_resolution.size\n",
    "\n",
    "print(\"6. Dimensi Ukuran Gambar Gerakan Tangan Batu dengan Urutan File ke-726 adalah:\", str(width) + \"x\" + str(height))\n",
    "\n",
    "# Gambar gerakan tangan Batu dengan urutan file ke-700\n",
    "rock_image_700_resolution = Image.open(str(rock_images_dataset[699]))\n",
    "width, height = rock_image_700_resolution.size\n",
    "\n",
    "print(\"7. Dimensi Ukuran Gambar Gerakan Tangan Batu dengan Urutan File ke-700 adalah:\", str(width) + \"x\" + str(height))\n",
    "\n",
    "# Gambar gerakan tangan Batu dengan urutan file ke-622\n",
    "rock_image_622_resolution = Image.open(str(rock_images_dataset[621]))\n",
    "width, height = rock_image_622_resolution.size\n",
    "\n",
    "print(\"8. Dimensi Ukuran Gambar Gerakan Tangan Batu dengan Urutan File ke-622 adalah:\", str(width) + \"x\" + str(height))\n",
    "\n",
    "# Gambar gerakan tangan Batu dengan urutan file ke-419\n",
    "rock_image_419_resolution = Image.open(str(rock_images_dataset[418]))\n",
    "width, height = rock_image_419_resolution.size\n",
    "\n",
    "print(\"9. Dimensi Ukuran Gambar Gerakan Tangan Batu dengan Urutan File ke-419 adalah:\", str(width) + \"x\" + str(height))\n",
    "\n",
    "# Gambar gerakan tangan Batu dengan urutan file ke-453\n",
    "rock_image_453_resolution = Image.open(str(rock_images_dataset[452]))\n",
    "width, height = rock_image_453_resolution.size\n",
    "\n",
    "print(\"10. Dimensi Ukuran Gambar Gerakan Tangan Batu dengan Urutan File ke-453 adalah:\", str(width) + \"x\" + str(height))"
   ]
  },
  {
   "cell_type": "code",
   "execution_count": null,
   "id": "6829b042",
   "metadata": {},
   "outputs": [],
   "source": []
  }
 ],
 "metadata": {
  "kernelspec": {
   "display_name": "Python 3 (ipykernel)",
   "language": "python",
   "name": "python3"
  },
  "language_info": {
   "codemirror_mode": {
    "name": "ipython",
    "version": 3
   },
   "file_extension": ".py",
   "mimetype": "text/x-python",
   "name": "python",
   "nbconvert_exporter": "python",
   "pygments_lexer": "ipython3",
   "version": "3.9.12"
  }
 },
 "nbformat": 4,
 "nbformat_minor": 5
}
